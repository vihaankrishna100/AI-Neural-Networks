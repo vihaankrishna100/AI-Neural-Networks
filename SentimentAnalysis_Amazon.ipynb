{
  "nbformat": 4,
  "nbformat_minor": 0,
  "metadata": {
    "colab": {
      "provenance": [],
      "include_colab_link": true
    },
    "kernelspec": {
      "name": "python3",
      "display_name": "Python 3"
    },
    "language_info": {
      "name": "python"
    }
  },
  "cells": [
    {
      "cell_type": "markdown",
      "metadata": {
        "id": "view-in-github",
        "colab_type": "text"
      },
      "source": [
        "<a href=\"https://colab.research.google.com/github/vihaankrishna100/AI-Neural-Networks/blob/main/SentimentAnalysis_Amazon.ipynb\" target=\"_parent\"><img src=\"https://colab.research.google.com/assets/colab-badge.svg\" alt=\"Open In Colab\"/></a>"
      ]
    },
    {
      "cell_type": "code",
      "execution_count": null,
      "metadata": {
        "id": "Cly89__7_-NY"
      },
      "outputs": [],
      "source": [
        "import numpy as np\n",
        "import pandas as pd\n",
        "import re\n",
        "import nltk\n",
        "import matplotlib.pyplot as plt\n",
        "import seaborn as sns\n",
        "from sklearn.naive_bayes import MultinomialNB\n",
        "from wordcloud import WordCloud\n"
      ]
    },
    {
      "cell_type": "code",
      "source": [
        "df = pd.read_csv(\"/content/amazon_cells_labelled.txt\", sep= \"\\t\", header = None)\n",
        "df.head()\n",
        "df = df.rename(columns={df.columns[0]: 'review'})\n",
        "df = df.rename(columns={df.columns[1]: 'sen'})"
      ],
      "metadata": {
        "id": "cDu26xp4BMv3"
      },
      "execution_count": null,
      "outputs": []
    },
    {
      "cell_type": "code",
      "source": [
        "df.shape\n",
        "df.sen.value_counts().plot(kind='barh', figsize=(8,4))"
      ],
      "metadata": {
        "colab": {
          "base_uri": "https://localhost:8080/",
          "height": 385
        },
        "id": "_AneAQVgBb_G",
        "outputId": "9308ab7b-ef31-4b4e-91ef-7214f504ab41"
      },
      "execution_count": null,
      "outputs": [
        {
          "output_type": "execute_result",
          "data": {
            "text/plain": [
              "<Axes: ylabel='sen'>"
            ]
          },
          "metadata": {},
          "execution_count": 5
        },
        {
          "output_type": "display_data",
          "data": {
            "text/plain": [
              "<Figure size 800x400 with 1 Axes>"
            ],
            "image/png": "[encoded data removed]"
          },
          "metadata": {}
        }
      ]
    },
    {
      "cell_type": "code",
      "source": [
        "from nltk.corpus import stopwords\n",
        "nltk.download('stopwords')\n",
        "from textwrap import fill\n",
        "print(fill(', '.join(stopwords.words('english')), width=80))\n",
        "stop = stopwords.words('english')\n",
        "df['text_without_sw'] = df['review'].apply(lambda x: ' '.join([item for item in x.split() if item not in stop]))\n"
      ],
      "metadata": {
        "colab": {
          "base_uri": "https://localhost:8080/"
        },
        "id": "NrbYZo7xB1Wq",
        "outputId": "a3a40de9-d3c3-4430-f384-2855d6b14586"
      },
      "execution_count": null,
      "outputs": [
        {
          "output_type": "stream",
          "name": "stderr",
          "text": [
            "[nltk_data] Downloading package stopwords to /root/nltk_data...\n",
            "[nltk_data]   Unzipping corpora/stopwords.zip.\n"
          ]
        },
        {
          "output_type": "stream",
          "name": "stdout",
          "text": [
            "i, me, my, myself, we, our, ours, ourselves, you, you're, you've, you'll, you'd,\n",
            "your, yours, yourself, yourselves, he, him, his, himself, she, she's, her, hers,\n",
            "herself, it, it's, its, itself, they, them, their, theirs, themselves, what,\n",
            "which, who, whom, this, that, that'll, these, those, am, is, are, was, were, be,\n",
            "been, being, have, has, had, having, do, does, did, doing, a, an, the, and, but,\n",
            "if, or, because, as, until, while, of, at, by, for, with, about, against,\n",
            "between, into, through, during, before, after, above, below, to, from, up, down,\n",
            "in, out, on, off, over, under, again, further, then, once, here, there, when,\n",
            "where, why, how, all, any, both, each, few, more, most, other, some, such, no,\n",
            "nor, not, only, own, same, so, than, too, very, s, t, can, will, just, don,\n",
            "don't, should, should've, now, d, ll, m, o, re, ve, y, ain, aren, aren't,\n",
            "couldn, couldn't, didn, didn't, doesn, doesn't, hadn, hadn't, hasn, hasn't,\n",
            "haven, haven't, isn, isn't, ma, mightn, mightn't, mustn, mustn't, needn,\n",
            "needn't, shan, shan't, shouldn, shouldn't, wasn, wasn't, weren, weren't, won,\n",
            "won't, wouldn, wouldn't\n"
          ]
        }
      ]
    },
    {
      "cell_type": "code",
      "source": [
        "df_sen = df[df[\"sen\"] == 1]\n",
        "plt.rcParams[\"figure.figsize\"] = [8,10]\n",
        "text = ' '.join(df_sen['text_without_sw'])\n",
        "wordcloud2 = WordCloud().generate(text)\n",
        "plt.imshow(wordcloud2)\n",
        "plt.axis(\"off\")\n",
        "plt.show()\n"
      ],
      "metadata": {
        "id": "RsqFGE6eCvYa"
      },
      "execution_count": null,
      "outputs": []
    },
    {
      "cell_type": "code",
      "source": [
        "df_ham = df[df[\"sen\"] == 0]\n",
        "plt.rcParams[\"figure.figsize\"] = [8,10]\n",
        "text = ' '.join(df_ham['text_without_sw'])\n",
        "wordcloud2 = WordCloud().generate(text)\n",
        "plt.imshow(wordcloud2)\n",
        "plt.axis(\"off\")\n",
        "plt.show()\n"
      ],
      "metadata": {
        "id": "B5_w5JMWC_ul"
      },
      "execution_count": null,
      "outputs": []
    },
    {
      "cell_type": "code",
      "source": [
        "X = df[\"review\"]\n",
        "y= df[\"sen\"]"
      ],
      "metadata": {
        "id": "C7hmfKiiDLOm"
      },
      "execution_count": null,
      "outputs": []
    },
    {
      "cell_type": "code",
      "source": [
        "def clean_text(doc):\n",
        "  document = re.sub('[^a-zA-Z]', ' ', doc)\n",
        "  document = re.sub(r\"\\s+[a-zA-Z]\\s+\", ' ', document)\n",
        "  document = re.sub(r'\\s+', ' ', document)\n",
        "  return document\n"
      ],
      "metadata": {
        "id": "nsGCipNrDVOu"
      },
      "execution_count": null,
      "outputs": []
    },
    {
      "cell_type": "code",
      "source": [
        "X_sentences = []\n",
        "review = list(X)\n",
        "for rev in review:\n",
        "  X_sentences.append(clean_text(rev))"
      ],
      "metadata": {
        "id": "W5RS9QKGDmdB"
      },
      "execution_count": null,
      "outputs": []
    },
    {
      "cell_type": "code",
      "source": [
        "from nltk.corpus import stopwords\n",
        "from sklearn.feature_extraction.text import TfidfVectorizer\n",
        "vectorizer = TfidfVectorizer (max_features=2500, min_df=5,\n",
        "max_df=0.7, stop_words=stopwords.words('english'))\n",
        "X = vectorizer.fit_transform(X_sentences).toarray()"
      ],
      "metadata": {
        "id": "ccyHW53MDyJC"
      },
      "execution_count": null,
      "outputs": []
    },
    {
      "cell_type": "code",
      "source": [
        "from sklearn.model_selection import train_test_split\n",
        "X_train, X_test, y_train, y_test = train_test_split(X, y, test_size=0.20, random_state=42)"
      ],
      "metadata": {
        "id": "in34T0J9D7TL"
      },
      "execution_count": null,
      "outputs": []
    },
    {
      "cell_type": "code",
      "source": [
        "spam_detector = MultinomialNB()\n",
        "spam_detector.fit(X_train, y_train)\n"
      ],
      "metadata": {
        "id": "6swpZw7rEMS2"
      },
      "execution_count": null,
      "outputs": []
    },
    {
      "cell_type": "code",
      "source": [
        "y_pred = spam_detector.predict(X_test)"
      ],
      "metadata": {
        "id": "gVD8SwBtEQ11"
      },
      "execution_count": null,
      "outputs": []
    },
    {
      "cell_type": "code",
      "source": [
        "from sklearn.metrics import classification_report, confusion_matrix, accuracy_score\n",
        "print(confusion_matrix(y_test, y_pred))\n",
        "print(classification_report(y_test, y_pred))\n",
        "print(accuracy_score(y_test, y_pred))"
      ],
      "metadata": {
        "id": "Lkc_yGjTER8O"
      },
      "execution_count": null,
      "outputs": []
    },
    {
      "cell_type": "code",
      "source": [
        "print(X_sentences[56])\n",
        "print(y[56])\n",
        "print(spam_detector.predict(vectorizer.transform([X_sentences[56]])))\n"
      ],
      "metadata": {
        "id": "Ud1gXEMDEqfx"
      },
      "execution_count": null,
      "outputs": []
    }
  ]
}